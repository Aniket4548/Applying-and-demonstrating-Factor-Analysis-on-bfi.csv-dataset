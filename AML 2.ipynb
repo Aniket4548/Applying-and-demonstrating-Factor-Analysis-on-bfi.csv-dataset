{
 "cells": [
  {
   "cell_type": "markdown",
   "id": "7d7af56c",
   "metadata": {},
   "source": [
    "# Practical 2"
   ]
  },
  {
   "cell_type": "markdown",
   "id": "41721492",
   "metadata": {},
   "source": [
    "## Aim : Applying and demonstrating Factor Analysis on bfi.csv dataset"
   ]
  },
  {
   "cell_type": "code",
   "execution_count": 1,
   "id": "a9733a50",
   "metadata": {},
   "outputs": [],
   "source": [
    "#importing the libraries\n",
    "import pandas as pd\n",
    "from factor_analyzer import FactorAnalyzer\n",
    "import matplotlib.pyplot as plt"
   ]
  },
  {
   "cell_type": "code",
   "execution_count": 2,
   "id": "37eb06fd",
   "metadata": {},
   "outputs": [],
   "source": [
    "df= pd.read_csv(R\"D:\\AML\\Datasets\\bfi.csv\")  #dataset"
   ]
  },
  {
   "cell_type": "code",
   "execution_count": 3,
   "id": "d568a626",
   "metadata": {},
   "outputs": [
    {
     "data": {
      "text/plain": [
       "Index(['Unnamed: 0', 'A1', 'A2', 'A3', 'A4', 'A5', 'C1', 'C2', 'C3', 'C4',\n",
       "       'C5', 'E1', 'E2', 'E3', 'E4', 'E5', 'N1', 'N2', 'N3', 'N4', 'N5', 'O1',\n",
       "       'O2', 'O3', 'O4', 'O5', 'gender', 'education', 'age'],\n",
       "      dtype='object')"
      ]
     },
     "execution_count": 3,
     "metadata": {},
     "output_type": "execute_result"
    }
   ],
   "source": [
    "df.columns"
   ]
  },
  {
   "cell_type": "code",
   "execution_count": 4,
   "id": "d4803bda",
   "metadata": {},
   "outputs": [
    {
     "data": {
      "text/html": [
       "<div>\n",
       "<style scoped>\n",
       "    .dataframe tbody tr th:only-of-type {\n",
       "        vertical-align: middle;\n",
       "    }\n",
       "\n",
       "    .dataframe tbody tr th {\n",
       "        vertical-align: top;\n",
       "    }\n",
       "\n",
       "    .dataframe thead th {\n",
       "        text-align: right;\n",
       "    }\n",
       "</style>\n",
       "<table border=\"1\" class=\"dataframe\">\n",
       "  <thead>\n",
       "    <tr style=\"text-align: right;\">\n",
       "      <th></th>\n",
       "      <th>Unnamed: 0</th>\n",
       "      <th>A1</th>\n",
       "      <th>A2</th>\n",
       "      <th>A3</th>\n",
       "      <th>A4</th>\n",
       "      <th>A5</th>\n",
       "      <th>C1</th>\n",
       "      <th>C2</th>\n",
       "      <th>C3</th>\n",
       "      <th>C4</th>\n",
       "      <th>...</th>\n",
       "      <th>N4</th>\n",
       "      <th>N5</th>\n",
       "      <th>O1</th>\n",
       "      <th>O2</th>\n",
       "      <th>O3</th>\n",
       "      <th>O4</th>\n",
       "      <th>O5</th>\n",
       "      <th>gender</th>\n",
       "      <th>education</th>\n",
       "      <th>age</th>\n",
       "    </tr>\n",
       "  </thead>\n",
       "  <tbody>\n",
       "    <tr>\n",
       "      <th>0</th>\n",
       "      <td>61617</td>\n",
       "      <td>2.0</td>\n",
       "      <td>4.0</td>\n",
       "      <td>3.0</td>\n",
       "      <td>4.0</td>\n",
       "      <td>4.0</td>\n",
       "      <td>2.0</td>\n",
       "      <td>3.0</td>\n",
       "      <td>3.0</td>\n",
       "      <td>4.0</td>\n",
       "      <td>...</td>\n",
       "      <td>2.0</td>\n",
       "      <td>3.0</td>\n",
       "      <td>3.0</td>\n",
       "      <td>6</td>\n",
       "      <td>3.0</td>\n",
       "      <td>4.0</td>\n",
       "      <td>3.0</td>\n",
       "      <td>1</td>\n",
       "      <td>NaN</td>\n",
       "      <td>16</td>\n",
       "    </tr>\n",
       "    <tr>\n",
       "      <th>1</th>\n",
       "      <td>61618</td>\n",
       "      <td>2.0</td>\n",
       "      <td>4.0</td>\n",
       "      <td>5.0</td>\n",
       "      <td>2.0</td>\n",
       "      <td>5.0</td>\n",
       "      <td>5.0</td>\n",
       "      <td>4.0</td>\n",
       "      <td>4.0</td>\n",
       "      <td>3.0</td>\n",
       "      <td>...</td>\n",
       "      <td>5.0</td>\n",
       "      <td>5.0</td>\n",
       "      <td>4.0</td>\n",
       "      <td>2</td>\n",
       "      <td>4.0</td>\n",
       "      <td>3.0</td>\n",
       "      <td>3.0</td>\n",
       "      <td>2</td>\n",
       "      <td>NaN</td>\n",
       "      <td>18</td>\n",
       "    </tr>\n",
       "    <tr>\n",
       "      <th>2</th>\n",
       "      <td>61620</td>\n",
       "      <td>5.0</td>\n",
       "      <td>4.0</td>\n",
       "      <td>5.0</td>\n",
       "      <td>4.0</td>\n",
       "      <td>4.0</td>\n",
       "      <td>4.0</td>\n",
       "      <td>5.0</td>\n",
       "      <td>4.0</td>\n",
       "      <td>2.0</td>\n",
       "      <td>...</td>\n",
       "      <td>2.0</td>\n",
       "      <td>3.0</td>\n",
       "      <td>4.0</td>\n",
       "      <td>2</td>\n",
       "      <td>5.0</td>\n",
       "      <td>5.0</td>\n",
       "      <td>2.0</td>\n",
       "      <td>2</td>\n",
       "      <td>NaN</td>\n",
       "      <td>17</td>\n",
       "    </tr>\n",
       "    <tr>\n",
       "      <th>3</th>\n",
       "      <td>61621</td>\n",
       "      <td>4.0</td>\n",
       "      <td>4.0</td>\n",
       "      <td>6.0</td>\n",
       "      <td>5.0</td>\n",
       "      <td>5.0</td>\n",
       "      <td>4.0</td>\n",
       "      <td>4.0</td>\n",
       "      <td>3.0</td>\n",
       "      <td>5.0</td>\n",
       "      <td>...</td>\n",
       "      <td>4.0</td>\n",
       "      <td>1.0</td>\n",
       "      <td>3.0</td>\n",
       "      <td>3</td>\n",
       "      <td>4.0</td>\n",
       "      <td>3.0</td>\n",
       "      <td>5.0</td>\n",
       "      <td>2</td>\n",
       "      <td>NaN</td>\n",
       "      <td>17</td>\n",
       "    </tr>\n",
       "    <tr>\n",
       "      <th>4</th>\n",
       "      <td>61622</td>\n",
       "      <td>2.0</td>\n",
       "      <td>3.0</td>\n",
       "      <td>3.0</td>\n",
       "      <td>4.0</td>\n",
       "      <td>5.0</td>\n",
       "      <td>4.0</td>\n",
       "      <td>4.0</td>\n",
       "      <td>5.0</td>\n",
       "      <td>3.0</td>\n",
       "      <td>...</td>\n",
       "      <td>4.0</td>\n",
       "      <td>3.0</td>\n",
       "      <td>3.0</td>\n",
       "      <td>3</td>\n",
       "      <td>4.0</td>\n",
       "      <td>3.0</td>\n",
       "      <td>3.0</td>\n",
       "      <td>1</td>\n",
       "      <td>NaN</td>\n",
       "      <td>17</td>\n",
       "    </tr>\n",
       "  </tbody>\n",
       "</table>\n",
       "<p>5 rows × 29 columns</p>\n",
       "</div>"
      ],
      "text/plain": [
       "   Unnamed: 0   A1   A2   A3   A4   A5   C1   C2   C3   C4  ...   N4   N5  \\\n",
       "0       61617  2.0  4.0  3.0  4.0  4.0  2.0  3.0  3.0  4.0  ...  2.0  3.0   \n",
       "1       61618  2.0  4.0  5.0  2.0  5.0  5.0  4.0  4.0  3.0  ...  5.0  5.0   \n",
       "2       61620  5.0  4.0  5.0  4.0  4.0  4.0  5.0  4.0  2.0  ...  2.0  3.0   \n",
       "3       61621  4.0  4.0  6.0  5.0  5.0  4.0  4.0  3.0  5.0  ...  4.0  1.0   \n",
       "4       61622  2.0  3.0  3.0  4.0  5.0  4.0  4.0  5.0  3.0  ...  4.0  3.0   \n",
       "\n",
       "    O1  O2   O3   O4   O5  gender  education  age  \n",
       "0  3.0   6  3.0  4.0  3.0       1        NaN   16  \n",
       "1  4.0   2  4.0  3.0  3.0       2        NaN   18  \n",
       "2  4.0   2  5.0  5.0  2.0       2        NaN   17  \n",
       "3  3.0   3  4.0  3.0  5.0       2        NaN   17  \n",
       "4  3.0   3  4.0  3.0  3.0       1        NaN   17  \n",
       "\n",
       "[5 rows x 29 columns]"
      ]
     },
     "execution_count": 4,
     "metadata": {},
     "output_type": "execute_result"
    }
   ],
   "source": [
    "df.head()"
   ]
  },
  {
   "cell_type": "code",
   "execution_count": 5,
   "id": "b0b94e74",
   "metadata": {},
   "outputs": [],
   "source": [
    "df.drop(['Unnamed: 0','gender', 'education', 'age'],axis=1,inplace=True)  #deleting the unnecessary columns"
   ]
  },
  {
   "cell_type": "code",
   "execution_count": 6,
   "id": "5ade3ead",
   "metadata": {},
   "outputs": [
    {
     "data": {
      "text/plain": [
       "Index(['A1', 'A2', 'A3', 'A4', 'A5', 'C1', 'C2', 'C3', 'C4', 'C5', 'E1', 'E2',\n",
       "       'E3', 'E4', 'E5', 'N1', 'N2', 'N3', 'N4', 'N5', 'O1', 'O2', 'O3', 'O4',\n",
       "       'O5'],\n",
       "      dtype='object')"
      ]
     },
     "execution_count": 6,
     "metadata": {},
     "output_type": "execute_result"
    }
   ],
   "source": [
    "df.columns"
   ]
  },
  {
   "cell_type": "code",
   "execution_count": 7,
   "id": "03f441c6",
   "metadata": {
    "scrolled": false
   },
   "outputs": [
    {
     "data": {
      "text/plain": [
       "A1    16\n",
       "A2    27\n",
       "A3    26\n",
       "A4    19\n",
       "A5    16\n",
       "C1    21\n",
       "C2    24\n",
       "C3    20\n",
       "C4    26\n",
       "C5    16\n",
       "E1    23\n",
       "E2    16\n",
       "E3    25\n",
       "E4     9\n",
       "E5    21\n",
       "N1    22\n",
       "N2    21\n",
       "N3    11\n",
       "N4    36\n",
       "N5    29\n",
       "O1    22\n",
       "O2     0\n",
       "O3    28\n",
       "O4    14\n",
       "O5    20\n",
       "dtype: int64"
      ]
     },
     "execution_count": 7,
     "metadata": {},
     "output_type": "execute_result"
    }
   ],
   "source": [
    "df.isnull().sum()  #checking the null values"
   ]
  },
  {
   "cell_type": "code",
   "execution_count": 8,
   "id": "bb8b1cdb",
   "metadata": {},
   "outputs": [],
   "source": [
    "df.dropna(inplace=True)  #deleting null values"
   ]
  },
  {
   "cell_type": "code",
   "execution_count": 9,
   "id": "8360ca99",
   "metadata": {
    "scrolled": false
   },
   "outputs": [
    {
     "data": {
      "text/plain": [
       "A1    0\n",
       "A2    0\n",
       "A3    0\n",
       "A4    0\n",
       "A5    0\n",
       "C1    0\n",
       "C2    0\n",
       "C3    0\n",
       "C4    0\n",
       "C5    0\n",
       "E1    0\n",
       "E2    0\n",
       "E3    0\n",
       "E4    0\n",
       "E5    0\n",
       "N1    0\n",
       "N2    0\n",
       "N3    0\n",
       "N4    0\n",
       "N5    0\n",
       "O1    0\n",
       "O2    0\n",
       "O3    0\n",
       "O4    0\n",
       "O5    0\n",
       "dtype: int64"
      ]
     },
     "execution_count": 9,
     "metadata": {},
     "output_type": "execute_result"
    }
   ],
   "source": [
    "df.isnull().sum()"
   ]
  },
  {
   "cell_type": "code",
   "execution_count": 10,
   "id": "8db6a091",
   "metadata": {},
   "outputs": [
    {
     "data": {
      "text/plain": [
       "(18146.065577235317, 0.0)"
      ]
     },
     "execution_count": 10,
     "metadata": {},
     "output_type": "execute_result"
    }
   ],
   "source": [
    "from factor_analyzer.factor_analyzer import calculate_bartlett_sphericity  #finding chi square value and p value\n",
    "chi_square_value,p_value=calculate_bartlett_sphericity(df)\n",
    "chi_square_value, p_value"
   ]
  },
  {
   "cell_type": "code",
   "execution_count": 11,
   "id": "5d0fc46c",
   "metadata": {},
   "outputs": [],
   "source": [
    "from factor_analyzer.factor_analyzer import calculate_kmo  #Kaiser-Meyer-Olkin (KMO) Test\n",
    "kmo_all,kmo_model=calculate_kmo(df)"
   ]
  },
  {
   "cell_type": "code",
   "execution_count": 12,
   "id": "14d11e2c",
   "metadata": {},
   "outputs": [
    {
     "data": {
      "text/plain": [
       "0.8486452309468386"
      ]
     },
     "execution_count": 12,
     "metadata": {},
     "output_type": "execute_result"
    }
   ],
   "source": [
    "kmo_model"
   ]
  },
  {
   "cell_type": "code",
   "execution_count": 13,
   "id": "895d88cf",
   "metadata": {},
   "outputs": [
    {
     "data": {
      "text/plain": [
       "array([5.13431118, 2.75188667, 2.14270195, 1.85232761, 1.54816285,\n",
       "       1.07358247, 0.83953893, 0.79920618, 0.71898919, 0.68808879,\n",
       "       0.67637336, 0.65179984, 0.62325295, 0.59656284, 0.56309083,\n",
       "       0.54330533, 0.51451752, 0.49450315, 0.48263952, 0.448921  ,\n",
       "       0.42336611, 0.40067145, 0.38780448, 0.38185679, 0.26253902])"
      ]
     },
     "execution_count": 13,
     "metadata": {},
     "output_type": "execute_result"
    }
   ],
   "source": [
    "fa = FactorAnalyzer() #Choosing the Number of Factors\n",
    "fa.fit(df)\n",
    "eigen_values, vectors = fa.get_eigenvalues()\n",
    "eigen_values"
   ]
  },
  {
   "cell_type": "code",
   "execution_count": 14,
   "id": "77fa498c",
   "metadata": {
    "scrolled": false
   },
   "outputs": [
    {
     "data": {
      "image/png": "[encoded data removed]",
      "text/plain": [
       "<Figure size 640x480 with 1 Axes>"
      ]
     },
     "metadata": {},
     "output_type": "display_data"
    }
   ],
   "source": [
    "# Create scree plot using matplotlib\n",
    "plt.scatter(range(1,df.shape[1]+1),eigen_values)\n",
    "plt.plot(range(1,df.shape[1]+1),eigen_values)\n",
    "plt.title('Scree Plot')\n",
    "plt.xlabel('Factors')\n",
    "plt.ylabel('Eigenvalue')\n",
    "plt.grid()\n",
    "plt.show()"
   ]
  },
  {
   "cell_type": "code",
   "execution_count": 15,
   "id": "140d251b",
   "metadata": {},
   "outputs": [
    {
     "data": {
      "text/plain": [
       "FactorAnalyzer(n_factors=6, rotation='varimax', rotation_kwargs={})"
      ]
     },
     "execution_count": 15,
     "metadata": {},
     "output_type": "execute_result"
    }
   ],
   "source": [
    "fa = FactorAnalyzer(n_factors=6,rotation='varimax')\n",
    "fa.fit(df)"
   ]
  },
  {
   "cell_type": "code",
   "execution_count": 16,
   "id": "fc6c6ad9",
   "metadata": {
    "scrolled": false
   },
   "outputs": [
    {
     "data": {
      "text/plain": [
       "array([[ 9.52197423e-02,  4.07831588e-02,  4.87338859e-02,\n",
       "        -5.30987350e-01, -1.13057330e-01,  1.61216357e-01],\n",
       "       [ 3.31312759e-02,  2.35538038e-01,  1.33714394e-01,\n",
       "         6.61140976e-01,  6.37337875e-02, -6.24353721e-03],\n",
       "       [-9.62088410e-03,  3.43008171e-01,  1.21353367e-01,\n",
       "         6.05932698e-01,  3.39902659e-02,  1.60106428e-01],\n",
       "       [-8.15175587e-02,  2.19716719e-01,  2.35139532e-01,\n",
       "         4.04594040e-01, -1.25338019e-01,  8.63557031e-02],\n",
       "       [-1.49615885e-01,  4.14457671e-01,  1.06382165e-01,\n",
       "         4.69698293e-01,  3.09765735e-02,  2.36519342e-01],\n",
       "       [-4.35840231e-03,  7.72477516e-02,  5.54582255e-01,\n",
       "         7.51069673e-03,  1.90123730e-01,  9.50350461e-02],\n",
       "       [ 6.83300836e-02,  3.83703824e-02,  6.74545451e-01,\n",
       "         5.70549885e-02,  8.75925915e-02,  1.52775079e-01],\n",
       "       [-3.99936735e-02,  3.18673001e-02,  5.51164439e-01,\n",
       "         1.01282241e-01, -1.13380873e-02,  8.99628347e-03],\n",
       "       [ 2.16283365e-01, -6.62407748e-02, -6.38475491e-01,\n",
       "        -1.02616940e-01, -1.43846475e-01,  3.18358903e-01],\n",
       "       [ 2.84187245e-01, -1.80811697e-01, -5.44837676e-01,\n",
       "        -5.99548222e-02,  2.58370944e-02,  1.32423444e-01],\n",
       "       [ 2.22797935e-02, -5.90450892e-01,  5.39149066e-02,\n",
       "        -1.30850532e-01, -7.12045797e-02,  1.56582655e-01],\n",
       "       [ 2.33623566e-01, -6.84577633e-01, -8.84970711e-02,\n",
       "        -1.16715666e-01, -4.55610415e-02,  1.15065399e-01],\n",
       "       [-8.95006278e-04,  5.56774178e-01,  1.03390347e-01,\n",
       "         1.79396483e-01,  2.41179905e-01,  2.67291318e-01],\n",
       "       [-1.36788076e-01,  6.58394905e-01,  1.13798005e-01,\n",
       "         2.41142964e-01, -1.07808203e-01,  1.58512854e-01],\n",
       "       [ 3.44895886e-02,  5.07535082e-01,  3.09812528e-01,\n",
       "         7.88042873e-02,  2.00821351e-01,  8.74730537e-03],\n",
       "       [ 8.05805939e-01,  6.80113040e-02, -5.12637874e-02,\n",
       "        -1.74849358e-01, -7.49771190e-02, -9.62661697e-02],\n",
       "       [ 7.89831686e-01,  2.29582946e-02, -3.74768699e-02,\n",
       "        -1.41134482e-01,  6.72646103e-03, -1.39822611e-01],\n",
       "       [ 7.25081220e-01, -6.56869340e-02, -5.90394374e-02,\n",
       "        -1.91838170e-02, -1.06635545e-02,  6.24953359e-02],\n",
       "       [ 5.78318850e-01, -3.45072326e-01, -1.62173861e-01,\n",
       "         4.03124721e-04,  6.29164837e-02,  1.47551240e-01],\n",
       "       [ 5.23097072e-01, -1.61675118e-01, -2.53049778e-02,\n",
       "         9.01247909e-02, -1.61891978e-01,  1.20049476e-01],\n",
       "       [-2.00040182e-02,  2.25338561e-01,  1.33200800e-01,\n",
       "         5.17793854e-03,  4.79477218e-01,  2.18689837e-01],\n",
       "       [ 1.56230108e-01, -1.98152047e-03, -8.60468495e-02,\n",
       "         4.39891074e-02, -4.96639673e-01,  1.34692973e-01],\n",
       "       [ 1.18510150e-02,  3.25954481e-01,  9.38796110e-02,\n",
       "         7.66416483e-02,  5.66128048e-01,  2.10777221e-01],\n",
       "       [ 2.07280571e-01, -1.77745715e-01, -5.67146624e-03,\n",
       "         1.33655573e-01,  3.49227138e-01,  1.78068365e-01],\n",
       "       [ 6.32343665e-02, -1.42210629e-02, -4.70592285e-02,\n",
       "        -5.75607769e-02, -5.76742635e-01,  1.35935874e-01]])"
      ]
     },
     "execution_count": 16,
     "metadata": {},
     "output_type": "execute_result"
    }
   ],
   "source": [
    "fa.loadings_"
   ]
  },
  {
   "cell_type": "code",
   "execution_count": 17,
   "id": "612d58cb",
   "metadata": {
    "scrolled": false
   },
   "outputs": [
    {
     "name": "stdout",
     "output_type": "stream",
     "text": [
      "           0         1         2         3         4         5\n",
      "A1  0.095220  0.040783  0.048734 -0.530987 -0.113057  0.161216\n",
      "A2  0.033131  0.235538  0.133714  0.661141  0.063734 -0.006244\n",
      "A3 -0.009621  0.343008  0.121353  0.605933  0.033990  0.160106\n",
      "A4 -0.081518  0.219717  0.235140  0.404594 -0.125338  0.086356\n",
      "A5 -0.149616  0.414458  0.106382  0.469698  0.030977  0.236519\n",
      "C1 -0.004358  0.077248  0.554582  0.007511  0.190124  0.095035\n",
      "C2  0.068330  0.038370  0.674545  0.057055  0.087593  0.152775\n",
      "C3 -0.039994  0.031867  0.551164  0.101282 -0.011338  0.008996\n",
      "C4  0.216283 -0.066241 -0.638475 -0.102617 -0.143846  0.318359\n",
      "C5  0.284187 -0.180812 -0.544838 -0.059955  0.025837  0.132423\n",
      "E1  0.022280 -0.590451  0.053915 -0.130851 -0.071205  0.156583\n",
      "E2  0.233624 -0.684578 -0.088497 -0.116716 -0.045561  0.115065\n",
      "E3 -0.000895  0.556774  0.103390  0.179396  0.241180  0.267291\n",
      "E4 -0.136788  0.658395  0.113798  0.241143 -0.107808  0.158513\n",
      "E5  0.034490  0.507535  0.309813  0.078804  0.200821  0.008747\n",
      "N1  0.805806  0.068011 -0.051264 -0.174849 -0.074977 -0.096266\n",
      "N2  0.789832  0.022958 -0.037477 -0.141134  0.006726 -0.139823\n",
      "N3  0.725081 -0.065687 -0.059039 -0.019184 -0.010664  0.062495\n",
      "N4  0.578319 -0.345072 -0.162174  0.000403  0.062916  0.147551\n",
      "N5  0.523097 -0.161675 -0.025305  0.090125 -0.161892  0.120049\n",
      "O1 -0.020004  0.225339  0.133201  0.005178  0.479477  0.218690\n",
      "O2  0.156230 -0.001982 -0.086047  0.043989 -0.496640  0.134693\n",
      "O3  0.011851  0.325954  0.093880  0.076642  0.566128  0.210777\n",
      "O4  0.207281 -0.177746 -0.005671  0.133656  0.349227  0.178068\n",
      "O5  0.063234 -0.014221 -0.047059 -0.057561 -0.576743  0.135936\n"
     ]
    }
   ],
   "source": [
    "factor_df=pd.DataFrame(fa.loadings_,index=df.columns)\n",
    "print(factor_df)"
   ]
  },
  {
   "cell_type": "code",
   "execution_count": 18,
   "id": "44ea3e2d",
   "metadata": {},
   "outputs": [
    {
     "data": {
      "text/plain": [
       "FactorAnalyzer(n_factors=5, rotation='varimax', rotation_kwargs={})"
      ]
     },
     "execution_count": 18,
     "metadata": {},
     "output_type": "execute_result"
    }
   ],
   "source": [
    "fa = FactorAnalyzer(n_factors=5,rotation='varimax')\n",
    "fa.fit(df)"
   ]
  },
  {
   "cell_type": "code",
   "execution_count": 19,
   "id": "8e6b7cd6",
   "metadata": {
    "scrolled": false
   },
   "outputs": [
    {
     "name": "stdout",
     "output_type": "stream",
     "text": [
      "           0         1         2         3         4\n",
      "A1  0.111126  0.040465  0.022798 -0.428166 -0.077931\n",
      "A2  0.029588  0.213716  0.139037  0.626946  0.062139\n",
      "A3  0.009357  0.317848  0.109331  0.650743  0.056196\n",
      "A4 -0.066476  0.204566  0.230584  0.435624 -0.112700\n",
      "A5 -0.122113  0.393034  0.087869  0.537087  0.066708\n",
      "C1  0.010416  0.070184  0.545824  0.038878  0.209584\n",
      "C2  0.089574  0.033270  0.648731  0.102782  0.115434\n",
      "C3 -0.030855  0.023907  0.557036  0.111578 -0.005183\n",
      "C4  0.240410 -0.064984 -0.633806 -0.037498 -0.107535\n",
      "C5  0.290318 -0.176395 -0.562467 -0.047525  0.036822\n",
      "E1  0.042819 -0.574835  0.033144 -0.104813 -0.058795\n",
      "E2  0.244743 -0.678731 -0.102483 -0.112517 -0.042010\n",
      "E3  0.024180  0.536816  0.083010  0.257906  0.280877\n",
      "E4 -0.115614  0.646833  0.102023  0.306101 -0.073422\n",
      "E5  0.036145  0.504069  0.312899  0.090354  0.213739\n",
      "N1  0.786807  0.078923 -0.045997 -0.216363 -0.084704\n",
      "N2  0.754109  0.027301 -0.030568 -0.193744 -0.010304\n",
      "N3  0.731721 -0.061430 -0.067084 -0.027712 -0.004217\n",
      "N4  0.590602 -0.345388 -0.178902  0.005886  0.075225\n",
      "N5  0.537858 -0.161291 -0.037309  0.100931 -0.149769\n",
      "O1 -0.002224  0.213005  0.115080  0.061550  0.504907\n",
      "O2  0.175788  0.004560 -0.099729  0.081809 -0.468925\n",
      "O3  0.026736  0.310956  0.076873  0.126889  0.596007\n",
      "O4  0.220582 -0.191196 -0.021906  0.155475  0.369012\n",
      "O5  0.085401 -0.005347 -0.062730 -0.010384 -0.533778\n"
     ]
    }
   ],
   "source": [
    "factor_df=pd.DataFrame(fa.loadings_,index=df.columns)\n",
    "print(factor_df)"
   ]
  },
  {
   "cell_type": "code",
   "execution_count": 20,
   "id": "19768ff2",
   "metadata": {},
   "outputs": [
    {
     "data": {
      "text/plain": [
       "(array([2.70963262, 2.47308982, 2.04110564, 1.844498  , 1.52215297]),\n",
       " array([0.1083853 , 0.09892359, 0.08164423, 0.07377992, 0.06088612]),\n",
       " array([0.1083853 , 0.2073089 , 0.28895312, 0.36273304, 0.42361916]))"
      ]
     },
     "execution_count": 20,
     "metadata": {},
     "output_type": "execute_result"
    }
   ],
   "source": [
    "fa.get_factor_variance()  # Get variance of each factors"
   ]
  },
  {
   "cell_type": "code",
   "execution_count": 21,
   "id": "516ce5ea",
   "metadata": {},
   "outputs": [
    {
     "name": "stdout",
     "output_type": "stream",
     "text": [
      "                         0         1         2         3         4\n",
      "Variance          2.709633  2.473090  2.041106  1.844498  1.522153\n",
      "Proportional Var  0.108385  0.098924  0.081644  0.073780  0.060886\n",
      "Cumulative Var    0.108385  0.207309  0.288953  0.362733  0.423619\n"
     ]
    }
   ],
   "source": [
    "print(pd.DataFrame(fa.get_factor_variance(),index=['Variance','Proportional Var','Cumulative Var']))"
   ]
  },
  {
   "cell_type": "code",
   "execution_count": 22,
   "id": "f62a5b6d",
   "metadata": {
    "scrolled": false
   },
   "outputs": [
    {
     "name": "stdout",
     "output_type": "stream",
     "text": [
      "    Communalities\n",
      "A1       0.203905\n",
      "A2       0.462803\n",
      "A3       0.539692\n",
      "A4       0.301905\n",
      "A5       0.470020\n",
      "C1       0.348395\n",
      "C2       0.453872\n",
      "C3       0.324289\n",
      "C4       0.476699\n",
      "C5       0.435383\n",
      "E1       0.347809\n",
      "E2       0.545502\n",
      "E3       0.441055\n",
      "E4       0.541257\n",
      "E5       0.407146\n",
      "N1       0.681398\n",
      "N2       0.608003\n",
      "N3       0.544475\n",
      "N4       0.505803\n",
      "N5       0.349316\n",
      "O1       0.317339\n",
      "O2       0.267452\n",
      "O3       0.474643\n",
      "O4       0.246035\n",
      "O5       0.296284\n"
     ]
    }
   ],
   "source": [
    "print(pd.DataFrame(fa.get_communalities(),index=df.columns,columns=['Communalities']))"
   ]
  },
  {
   "cell_type": "code",
   "execution_count": null,
   "id": "dd7133fe",
   "metadata": {},
   "outputs": [],
   "source": []
  }
 ],
 "metadata": {
  "kernelspec": {
   "display_name": "Python 3 (ipykernel)",
   "language": "python",
   "name": "python3"
  },
  "language_info": {
   "codemirror_mode": {
    "name": "ipython",
    "version": 3
   },
   "file_extension": ".py",
   "mimetype": "text/x-python",
   "name": "python",
   "nbconvert_exporter": "python",
   "pygments_lexer": "ipython3",
   "version": "3.9.13"
  }
 },
 "nbformat": 4,
 "nbformat_minor": 5
}
